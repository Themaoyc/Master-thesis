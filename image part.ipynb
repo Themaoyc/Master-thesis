{
 "cells": [
  {
   "cell_type": "code",
   "execution_count": 1,
   "id": "3ef146cb",
   "metadata": {},
   "outputs": [],
   "source": [
    "%reset -f\n",
    "%reload_ext autoreload\n",
    "%autoreload 2\n",
    "%matplotlib inline\n",
    "%config Completer.use_jedi = False"
   ]
  },
  {
   "cell_type": "code",
   "execution_count": 2,
   "id": "b1bb2980",
   "metadata": {},
   "outputs": [],
   "source": [
    "from pyanis.vision import stickyplate as sp\n",
    "from PIL import Image\n",
    "import cv2\n",
    "import os"
   ]
  },
  {
   "cell_type": "markdown",
   "id": "5097f830",
   "metadata": {},
   "source": [
    "# 把原始图片裁剪成两个光圈"
   ]
  },
  {
   "cell_type": "markdown",
   "id": "94ff2e1a",
   "metadata": {},
   "source": [
    "## 获取图片尺寸参数"
   ]
  },
  {
   "cell_type": "code",
   "execution_count": 3,
   "id": "af6bb75c",
   "metadata": {},
   "outputs": [
    {
     "data": {
      "text/plain": [
       "(1600, 1200)"
      ]
     },
     "execution_count": 3,
     "metadata": {},
     "output_type": "execute_result"
    }
   ],
   "source": [
    "img = Image.open('/Users/apple/Desktop/IMAGESorg/20220331_12h32m30s_160000_F_0_F_69_F_69_F_8_F_0_F_0_T_29_T_99_T_0_T_69_T_62_T_8_T_0_T_0_T_28_T_99.jpg')\n",
    "img.size "
   ]
  },
  {
   "cell_type": "markdown",
   "id": "62d55b23",
   "metadata": {},
   "source": [
    "## 裁剪函数"
   ]
  },
  {
   "cell_type": "code",
   "execution_count": 4,
   "id": "8132e5a4",
   "metadata": {},
   "outputs": [],
   "source": [
    "#left\n",
    "def cutleft(input_img_path, output_img_path):\n",
    " \n",
    "    image = cv2.imread(input_img_path)\n",
    "    print(image.shape)\n",
    "    cropped = image[300:600,250:550]  # 裁剪坐标为[y0:y1,  x0:x1]\n",
    "    cv2.imwrite(output_img_path, cropped)"
   ]
  },
  {
   "cell_type": "code",
   "execution_count": 5,
   "id": "24301e7f",
   "metadata": {},
   "outputs": [],
   "source": [
    "#right\n",
    "def cutright(input_img_path, output_img_path):\n",
    " \n",
    "    image = cv2.imread(input_img_path)\n",
    "    print(image.shape)\n",
    "    cropped = image[300:600,1150:1450]  # 裁剪坐标为[y0:y1,  x0:x1]\n",
    "    cv2.imwrite(output_img_path, cropped)"
   ]
  },
  {
   "cell_type": "code",
   "execution_count": 6,
   "id": "b5294667",
   "metadata": {
    "collapsed": true
   },
   "outputs": [
    {
     "name": "stdout",
     "output_type": "stream",
     "text": [
      "/Users/apple/Desktop/IMAGESorg/20220331_14h21m24s_160000_T_49_T_0_T_0_T_0_T_0_T_13_T_29_T_99_F_35_F_0_F_0_F_0_F_0_F_10_T_28_T_99.jpg\n",
      "/Users/apple/Desktop/IMAGESleft/20220331_14h21m24s_160000_T_49_T_0_T_0_T_0_T_0_T_13_T_29_T_99_F_35_F_0_F_0_F_0_F_0_F_10_T_28_T_99.jpg\n",
      "(1200, 1600, 3)\n",
      "/Users/apple/Desktop/IMAGESorg/20220331_15h12m13s_160000_F_70_F_0_F_0_F_0_F_0_F_0_T_29_T_99_T_50_T_0_T_0_T_0_T_0_T_0_T_28_T_99.jpg\n",
      "/Users/apple/Desktop/IMAGESleft/20220331_15h12m13s_160000_F_70_F_0_F_0_F_0_F_0_F_0_T_29_T_99_T_50_T_0_T_0_T_0_T_0_T_0_T_28_T_99.jpg\n",
      "(1200, 1600, 3)\n",
      "/Users/apple/Desktop/IMAGESorg/20220331_20h46m31s_160000_T_0_T_76_T_76_T_0_T_6_T_0_T_29_T_99_F_0_F_76_F_68_F_0_F_6_F_0_T_28_T_99.jpg\n",
      "/Users/apple/Desktop/IMAGESleft/20220331_20h46m31s_160000_T_0_T_76_T_76_T_0_T_6_T_0_T_29_T_99_F_0_F_76_F_68_F_0_F_6_F_0_T_28_T_99.jpg\n",
      "(1200, 1600, 3)\n",
      "/Users/apple/Desktop/IMAGESorg/20220331_19h41m10s_160000_F_23_F_0_F_0_F_8_F_0_F_15_T_29_T_99_T_17_T_0_T_0_T_9_T_0_T_12_T_28_T_99.jpg\n",
      "/Users/apple/Desktop/IMAGESleft/20220331_19h41m10s_160000_F_23_F_0_F_0_F_8_F_0_F_15_T_29_T_99_T_17_T_0_T_0_T_9_T_0_T_12_T_28_T_99.jpg\n",
      "(1200, 1600, 3)\n",
      "/Users/apple/Desktop/IMAGESorg/20220331_14h21m44s_160000_T_49_T_0_T_0_T_0_T_0_T_13_T_29_T_99_F_35_F_0_F_0_F_0_F_0_F_10_T_28_T_99.jpg\n",
      "/Users/apple/Desktop/IMAGESleft/20220331_14h21m44s_160000_T_49_T_0_T_0_T_0_T_0_T_13_T_29_T_99_F_35_F_0_F_0_F_0_F_0_F_10_T_28_T_99.jpg\n",
      "(1200, 1600, 3)\n",
      "/Users/apple/Desktop/IMAGESorg/20220331_19h42m26s_160000_F_23_F_0_F_0_F_8_F_0_F_15_T_29_T_99_T_17_T_0_T_0_T_9_T_0_T_12_T_28_T_99.jpg\n",
      "/Users/apple/Desktop/IMAGESleft/20220331_19h42m26s_160000_F_23_F_0_F_0_F_8_F_0_F_15_T_29_T_99_T_17_T_0_T_0_T_9_T_0_T_12_T_28_T_99.jpg\n",
      "(1200, 1600, 3)\n",
      "/Users/apple/Desktop/IMAGESorg/20220331_14h22m55s_160000_T_49_T_0_T_0_T_0_T_0_T_13_T_29_T_99_F_35_F_0_F_0_F_0_F_0_F_10_T_28_T_99.jpg\n",
      "/Users/apple/Desktop/IMAGESleft/20220331_14h22m55s_160000_T_49_T_0_T_0_T_0_T_0_T_13_T_29_T_99_F_35_F_0_F_0_F_0_F_0_F_10_T_28_T_99.jpg\n",
      "(1200, 1600, 3)\n",
      "/Users/apple/Desktop/IMAGESorg/20220331_19h42m01s_160000_F_23_F_0_F_0_F_8_F_0_F_15_T_29_T_99_T_17_T_0_T_0_T_9_T_0_T_12_T_28_T_99.jpg\n",
      "/Users/apple/Desktop/IMAGESleft/20220331_19h42m01s_160000_F_23_F_0_F_0_F_8_F_0_F_15_T_29_T_99_T_17_T_0_T_0_T_9_T_0_T_12_T_28_T_99.jpg\n",
      "(1200, 1600, 3)\n",
      "/Users/apple/Desktop/IMAGESorg/20220331_12h32m30s_160000_F_0_F_69_F_69_F_8_F_0_F_0_T_29_T_99_T_0_T_69_T_62_T_8_T_0_T_0_T_28_T_99.jpg\n",
      "/Users/apple/Desktop/IMAGESleft/20220331_12h32m30s_160000_F_0_F_69_F_69_F_8_F_0_F_0_T_29_T_99_T_0_T_69_T_62_T_8_T_0_T_0_T_28_T_99.jpg\n",
      "(1200, 1600, 3)\n",
      "/Users/apple/Desktop/IMAGESorg/20220331_14h45m07s_160000_T_0_T_33_T_33_T_9_T_0_T_15_T_29_T_99_F_0_F_33_F_30_F_9_F_0_F_11_T_28_T_99.jpg\n",
      "/Users/apple/Desktop/IMAGESleft/20220331_14h45m07s_160000_T_0_T_33_T_33_T_9_T_0_T_15_T_29_T_99_F_0_F_33_F_30_F_9_F_0_F_11_T_28_T_99.jpg\n",
      "(1200, 1600, 3)\n",
      "/Users/apple/Desktop/IMAGESorg/20220331_19h43m42s_160000_F_23_F_0_F_0_F_8_F_0_F_15_T_29_T_99_T_17_T_0_T_0_T_9_T_0_T_12_T_28_T_99.jpg\n",
      "/Users/apple/Desktop/IMAGESleft/20220331_19h43m42s_160000_F_23_F_0_F_0_F_8_F_0_F_15_T_29_T_99_T_17_T_0_T_0_T_9_T_0_T_12_T_28_T_99.jpg\n",
      "(1200, 1600, 3)\n"
     ]
    }
   ],
   "source": [
    "# 图片所在路径\n",
    "dataset_dir = '/Users/apple/Desktop/IMAGESorg'\n",
    "output_dir = '/Users/apple/Desktop/IMAGESleft'\n",
    " \n",
    " \n",
    "# 获得需要转化的图片路径并生成目标路径\n",
    "image_filenames = [(os.path.join(dataset_dir, x), os.path.join(output_dir, x))\n",
    "                    for x in os.listdir(dataset_dir)]\n",
    " \n",
    " \n",
    "# 转化路径下所有的图片\n",
    "for path in image_filenames:\n",
    "    print(path[0])\n",
    "    print(path[1])\n",
    "    cutleft(path[0], path[1])\n"
   ]
  },
  {
   "cell_type": "code",
   "execution_count": 7,
   "id": "8c066274",
   "metadata": {
    "collapsed": true
   },
   "outputs": [
    {
     "name": "stdout",
     "output_type": "stream",
     "text": [
      "/Users/apple/Desktop/IMAGESorg/20220331_14h21m24s_160000_T_49_T_0_T_0_T_0_T_0_T_13_T_29_T_99_F_35_F_0_F_0_F_0_F_0_F_10_T_28_T_99.jpg\n",
      "/Users/apple/Desktop/IMAGESright/20220331_14h21m24s_160000_T_49_T_0_T_0_T_0_T_0_T_13_T_29_T_99_F_35_F_0_F_0_F_0_F_0_F_10_T_28_T_99.jpg\n",
      "(1200, 1600, 3)\n",
      "/Users/apple/Desktop/IMAGESorg/20220331_15h12m13s_160000_F_70_F_0_F_0_F_0_F_0_F_0_T_29_T_99_T_50_T_0_T_0_T_0_T_0_T_0_T_28_T_99.jpg\n",
      "/Users/apple/Desktop/IMAGESright/20220331_15h12m13s_160000_F_70_F_0_F_0_F_0_F_0_F_0_T_29_T_99_T_50_T_0_T_0_T_0_T_0_T_0_T_28_T_99.jpg\n",
      "(1200, 1600, 3)\n",
      "/Users/apple/Desktop/IMAGESorg/20220331_20h46m31s_160000_T_0_T_76_T_76_T_0_T_6_T_0_T_29_T_99_F_0_F_76_F_68_F_0_F_6_F_0_T_28_T_99.jpg\n",
      "/Users/apple/Desktop/IMAGESright/20220331_20h46m31s_160000_T_0_T_76_T_76_T_0_T_6_T_0_T_29_T_99_F_0_F_76_F_68_F_0_F_6_F_0_T_28_T_99.jpg\n",
      "(1200, 1600, 3)\n",
      "/Users/apple/Desktop/IMAGESorg/20220331_19h41m10s_160000_F_23_F_0_F_0_F_8_F_0_F_15_T_29_T_99_T_17_T_0_T_0_T_9_T_0_T_12_T_28_T_99.jpg\n",
      "/Users/apple/Desktop/IMAGESright/20220331_19h41m10s_160000_F_23_F_0_F_0_F_8_F_0_F_15_T_29_T_99_T_17_T_0_T_0_T_9_T_0_T_12_T_28_T_99.jpg\n",
      "(1200, 1600, 3)\n",
      "/Users/apple/Desktop/IMAGESorg/20220331_14h21m44s_160000_T_49_T_0_T_0_T_0_T_0_T_13_T_29_T_99_F_35_F_0_F_0_F_0_F_0_F_10_T_28_T_99.jpg\n",
      "/Users/apple/Desktop/IMAGESright/20220331_14h21m44s_160000_T_49_T_0_T_0_T_0_T_0_T_13_T_29_T_99_F_35_F_0_F_0_F_0_F_0_F_10_T_28_T_99.jpg\n",
      "(1200, 1600, 3)\n",
      "/Users/apple/Desktop/IMAGESorg/20220331_19h42m26s_160000_F_23_F_0_F_0_F_8_F_0_F_15_T_29_T_99_T_17_T_0_T_0_T_9_T_0_T_12_T_28_T_99.jpg\n",
      "/Users/apple/Desktop/IMAGESright/20220331_19h42m26s_160000_F_23_F_0_F_0_F_8_F_0_F_15_T_29_T_99_T_17_T_0_T_0_T_9_T_0_T_12_T_28_T_99.jpg\n",
      "(1200, 1600, 3)\n",
      "/Users/apple/Desktop/IMAGESorg/20220331_14h22m55s_160000_T_49_T_0_T_0_T_0_T_0_T_13_T_29_T_99_F_35_F_0_F_0_F_0_F_0_F_10_T_28_T_99.jpg\n",
      "/Users/apple/Desktop/IMAGESright/20220331_14h22m55s_160000_T_49_T_0_T_0_T_0_T_0_T_13_T_29_T_99_F_35_F_0_F_0_F_0_F_0_F_10_T_28_T_99.jpg\n",
      "(1200, 1600, 3)\n",
      "/Users/apple/Desktop/IMAGESorg/20220331_19h42m01s_160000_F_23_F_0_F_0_F_8_F_0_F_15_T_29_T_99_T_17_T_0_T_0_T_9_T_0_T_12_T_28_T_99.jpg\n",
      "/Users/apple/Desktop/IMAGESright/20220331_19h42m01s_160000_F_23_F_0_F_0_F_8_F_0_F_15_T_29_T_99_T_17_T_0_T_0_T_9_T_0_T_12_T_28_T_99.jpg\n",
      "(1200, 1600, 3)\n",
      "/Users/apple/Desktop/IMAGESorg/20220331_12h32m30s_160000_F_0_F_69_F_69_F_8_F_0_F_0_T_29_T_99_T_0_T_69_T_62_T_8_T_0_T_0_T_28_T_99.jpg\n",
      "/Users/apple/Desktop/IMAGESright/20220331_12h32m30s_160000_F_0_F_69_F_69_F_8_F_0_F_0_T_29_T_99_T_0_T_69_T_62_T_8_T_0_T_0_T_28_T_99.jpg\n",
      "(1200, 1600, 3)\n",
      "/Users/apple/Desktop/IMAGESorg/20220331_14h45m07s_160000_T_0_T_33_T_33_T_9_T_0_T_15_T_29_T_99_F_0_F_33_F_30_F_9_F_0_F_11_T_28_T_99.jpg\n",
      "/Users/apple/Desktop/IMAGESright/20220331_14h45m07s_160000_T_0_T_33_T_33_T_9_T_0_T_15_T_29_T_99_F_0_F_33_F_30_F_9_F_0_F_11_T_28_T_99.jpg\n",
      "(1200, 1600, 3)\n",
      "/Users/apple/Desktop/IMAGESorg/20220331_19h43m42s_160000_F_23_F_0_F_0_F_8_F_0_F_15_T_29_T_99_T_17_T_0_T_0_T_9_T_0_T_12_T_28_T_99.jpg\n",
      "/Users/apple/Desktop/IMAGESright/20220331_19h43m42s_160000_F_23_F_0_F_0_F_8_F_0_F_15_T_29_T_99_T_17_T_0_T_0_T_9_T_0_T_12_T_28_T_99.jpg\n",
      "(1200, 1600, 3)\n"
     ]
    }
   ],
   "source": [
    "# 图片所在路径\n",
    "dataset_dir = '/Users/apple/Desktop/IMAGESorg'\n",
    "output_dir = '/Users/apple/Desktop/IMAGESright'\n",
    " \n",
    " \n",
    "# 获得需要转化的图片路径并生成目标路径\n",
    "image_filenames = [(os.path.join(dataset_dir, x), os.path.join(output_dir, x))\n",
    "                    for x in os.listdir(dataset_dir)]\n",
    " \n",
    " \n",
    "# 转化路径下所有的图片\n",
    "for path in image_filenames:\n",
    "    print(path[0])\n",
    "    print(path[1])\n",
    "    cutright(path[0], path[1])\n"
   ]
  },
  {
   "cell_type": "markdown",
   "id": "10f6f8df",
   "metadata": {},
   "source": [
    "# Creating a class object for our image."
   ]
  },
  {
   "cell_type": "code",
   "execution_count": null,
   "id": "1b68d8ee",
   "metadata": {},
   "outputs": [],
   "source": [
    "image_object = sp.StickyPlate(path=\"/Users/apple/Desktop/IMAGESright/20220331_19h42m26s_160000_F_23_F_0_F_0_F_8_F_0_F_15_T_29_T_99_T_17_T_0_T_0_T_9_T_0_T_12_T_28_T_99.jpg\", chessboard_dir='.')"
   ]
  },
  {
   "cell_type": "markdown",
   "id": "29c730ab",
   "metadata": {},
   "source": [
    "## Thresholding"
   ]
  },
  {
   "cell_type": "code",
   "execution_count": null,
   "id": "1fd2934a",
   "metadata": {},
   "outputs": [],
   "source": [
    "image_object.threshold_image(threshold=4)"
   ]
  },
  {
   "cell_type": "code",
   "execution_count": null,
   "id": "e7281df1",
   "metadata": {},
   "outputs": [],
   "source": [
    "Image.fromarray(image_object.thresholded)"
   ]
  },
  {
   "cell_type": "code",
   "execution_count": null,
   "id": "fb1a7df2",
   "metadata": {},
   "outputs": [],
   "source": [
    "image_object.detect_objects(min_obj_area=15, max_obj_area=6000, nms_threshold=0.08, insect_img_dim=150)"
   ]
  },
  {
   "cell_type": "code",
   "execution_count": null,
   "id": "201dd9eb",
   "metadata": {},
   "outputs": [],
   "source": [
    "Image.fromarray(image_object.image_bboxes)"
   ]
  },
  {
   "cell_type": "code",
   "execution_count": null,
   "id": "97c30f88",
   "metadata": {},
   "outputs": [],
   "source": []
  }
 ],
 "metadata": {
  "kernelspec": {
   "display_name": "Python 3 (ipykernel)",
   "language": "python",
   "name": "python3"
  },
  "language_info": {
   "codemirror_mode": {
    "name": "ipython",
    "version": 3
   },
   "file_extension": ".py",
   "mimetype": "text/x-python",
   "name": "python",
   "nbconvert_exporter": "python",
   "pygments_lexer": "ipython3",
   "version": "3.10.4"
  }
 },
 "nbformat": 4,
 "nbformat_minor": 5
}
